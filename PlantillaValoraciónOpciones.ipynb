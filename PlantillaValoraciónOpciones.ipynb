{
  "nbformat": 4,
  "nbformat_minor": 0,
  "metadata": {
    "colab": {
      "provenance": [],
      "include_colab_link": true
    },
    "kernelspec": {
      "name": "ir",
      "display_name": "R"
    },
    "language_info": {
      "name": "R"
    }
  },
  "cells": [
    {
      "cell_type": "markdown",
      "metadata": {
        "id": "view-in-github",
        "colab_type": "text"
      },
      "source": [
        "<a href=\"https://colab.research.google.com/github/sofiaperezv/Gestion-financiera/blob/main/PlantillaValoraci%C3%B3nOpciones.ipynb\" target=\"_parent\"><img src=\"https://colab.research.google.com/assets/colab-badge.svg\" alt=\"Open In Colab\"/></a>"
      ]
    },
    {
      "cell_type": "markdown",
      "metadata": {
        "id": "fE2qAdg1NKr7"
      },
      "source": [
        "# Valoración opciones aplicada\n",
        "\n",
        "Tome en consideración el modelo continuio de Black and Scholes:\n",
        "\n",
        "$$C(S,t)=S\\cdot\\Phi(d_1)-K\\exp(-R\\cdot t)\\cdot\\Phi(d_2)$$\n",
        "\n",
        "donde $d_1=\\frac{\\log\\frac{S}{K}+\\left(R+\\frac{\\sigma^2}{2}\\right)\\cdot t}{\\sqrt{\\sigma^2\\cdot t}}$ y $d_2=d_1-\\sqrt{\\sigma^2\\cdot t}$.\n",
        "\n",
        "Defina los parámetros asociados a valores del activo definido en la Tarea 1 y calcule el valor de una opción de compra."
      ]
    },
    {
      "cell_type": "markdown",
      "metadata": {
        "id": "xFllCJTDNauC"
      },
      "source": [
        "## Black-Scholes"
      ]
    },
    {
      "cell_type": "code",
      "metadata": {
        "id": "eEoBFS9ALm5j"
      },
      "source": [
        "# Parámetros de test\n",
        "K = 100\n",
        "r = 0.02\n",
        "sigma = 0.2\n",
        "T = 0.5\n",
        "S0 = 102\n",
        "# Resultado esperado CALL\n",
        "# 7.28815118277163"
      ],
      "execution_count": null,
      "outputs": []
    },
    {
      "cell_type": "markdown",
      "metadata": {
        "id": "4Pb1rldRNRnD"
      },
      "source": [
        "## Segundo Modelo de valoración"
      ]
    },
    {
      "cell_type": "code",
      "metadata": {
        "id": "NryqfZ7yNUk3"
      },
      "source": [],
      "execution_count": null,
      "outputs": []
    },
    {
      "cell_type": "markdown",
      "metadata": {
        "id": "Acb1HVUB2voE"
      },
      "source": [
        "## Ingesta de datos\n",
        "\n",
        "### Opción 1"
      ]
    },
    {
      "cell_type": "code",
      "metadata": {
        "colab": {
          "base_uri": "https://localhost:8080/"
        },
        "id": "lTWbJC1x2w1-",
        "outputId": "93f83546-0c48-46c0-a73d-7a815e71efee"
      },
      "source": [
        "#https://data.nasdaq.com/tools/r\n",
        "install.packages(\"Quandl\")\n",
        "library(Quandl)"
      ],
      "execution_count": null,
      "outputs": [
        {
          "output_type": "stream",
          "name": "stderr",
          "text": [
            "Installing package into ‘/usr/local/lib/R/site-library’\n",
            "(as ‘lib’ is unspecified)\n",
            "\n",
            "also installing the dependencies ‘xts’, ‘zoo’\n",
            "\n",
            "\n",
            "Loading required package: xts\n",
            "\n",
            "Loading required package: zoo\n",
            "\n",
            "\n",
            "Attaching package: ‘zoo’\n",
            "\n",
            "\n",
            "The following objects are masked from ‘package:base’:\n",
            "\n",
            "    as.Date, as.Date.numeric\n",
            "\n",
            "\n"
          ]
        }
      ]
    },
    {
      "cell_type": "code",
      "metadata": {
        "id": "-3tFHoMq24H0",
        "colab": {
          "base_uri": "https://localhost:8080/",
          "height": 494
        },
        "outputId": "232e937b-0893-4646-82dd-3d517f8700a5"
      },
      "source": [
        "mydata = Quandl(\"FRED/GDP\", type=\"raw\")"
      ],
      "execution_count": null,
      "outputs": [
        {
          "output_type": "error",
          "ename": "ERROR",
          "evalue": "ignored",
          "traceback": [
            "Error: { \"quandl_error\": { \"code\": \"QELx01\", \"message\": \"You have exceeded the anonymous user limit of 50 calls per day. To make more calls today, please register for a free Nasdaq Data Link account and then include your API key with your requests.\" } }\nTraceback:\n",
            "1. Quandl(\"FRED/GDP\", type = \"raw\")",
            "2. Quandl.dataset.get(code, params)",
            "3. do.call(quandl.api, c(path = path, params))",
            "4. (function (path, http = c(\"GET\", \"PUT\", \"POST\", \"DELETE\"), postdata = NULL, \n .     ...) \n . {\n .     http <- match.arg(http)\n .     request <- quandl.api.build_request(path, ...)\n .     response <- httr::VERB(http, request$request_url, config = do.call(httr::add_headers, \n .         request$headers), body = postdata, query = request$params)\n .     quandl.api.handl_errors(response)\n .     text_response <- httr::content(response, as = \"text\")\n .     json_response <- tryCatch(jsonlite::fromJSON(text_response, \n .         simplifyVector = TRUE), error = function(e) {\n .         stop(e, \" Failed to parse response: \", text_response)\n .     })\n .     json_response\n . })(path = \"datasets/FRED/GDP\", transform = \"\", collapse = \"\", \n .     order = \"desc\")",
            "5. quandl.api.handl_errors(response)",
            "6. stop(httr::content(response, as = \"text\"), call. = FALSE)"
          ]
        }
      ]
    },
    {
      "cell_type": "code",
      "metadata": {
        "id": "Ukm1_k0l25oo"
      },
      "source": [
        "head(mydata)"
      ],
      "execution_count": null,
      "outputs": []
    },
    {
      "cell_type": "markdown",
      "metadata": {
        "id": "SSZE4hqjRcjE"
      },
      "source": [
        "### Opción 2"
      ]
    },
    {
      "cell_type": "code",
      "metadata": {
        "id": "QH3scmhORbhm"
      },
      "source": [
        "# Esto puede tomar entre 6 y 10 minutos de instalación\n",
        "install.packages(\"tidyquant\")"
      ],
      "execution_count": null,
      "outputs": []
    },
    {
      "cell_type": "code",
      "metadata": {
        "id": "S3IA55fxRfIn"
      },
      "source": [
        "library(tidyquant)\n",
        "getSymbols(\"ESGV\",\n",
        "           from = \"2018-01-01\",\n",
        "           to = \"2021-10-26\")"
      ],
      "execution_count": null,
      "outputs": []
    },
    {
      "cell_type": "markdown",
      "metadata": {
        "id": "_33R5F2LjSe6"
      },
      "source": [
        "### Opción 3\n",
        "\n",
        "[Template acceso API Bolsa de Santiag vía Python](https://colab.research.google.com/drive/1crRu-63uW4GfCKDk-jjbtgJ47ueuPz-V?usp=sharing)"
      ]
    },
    {
      "cell_type": "markdown",
      "metadata": {
        "id": "UJyYpP6gjJ_Q"
      },
      "source": [
        "### Opción 4\n",
        "\n",
        "[API CMF](https://api.cmfchile.cl/uso-de-api-key.html)"
      ]
    }
  ]
}